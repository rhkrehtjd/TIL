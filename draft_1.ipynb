{
  "cells": [
    {
      "cell_type": "code",
      "execution_count": 1,
      "id": "d10f4809-c310-457f-91a5-f64bc806e331",
      "metadata": {
        "id": "d10f4809-c310-457f-91a5-f64bc806e331",
        "colab": {
          "base_uri": "https://localhost:8080/"
        },
        "outputId": "fa62cee7-4ff9-42bc-ad01-01f6907f911c"
      },
      "outputs": [
        {
          "output_type": "stream",
          "name": "stdout",
          "text": [
            "Mounted at /content/drive\n"
          ]
        }
      ],
      "source": [
        "import torch \n",
        "import torchvision\n",
        "import numpy as np\n",
        "from fastai.vision.all import * \n",
        "import os\n",
        "import torchvision.transforms as T\n",
        "from PIL import Image\n",
        "from google.colab import drive\n",
        "drive.mount('/content/drive')\n",
        "transform = T.Resize((300,300))"
      ]
    },
    {
      "cell_type": "code",
      "execution_count": 2,
      "id": "d82de3af-8fb0-498b-912e-450ee272291f",
      "metadata": {
        "id": "d82de3af-8fb0-498b-912e-450ee272291f"
      },
      "outputs": [],
      "source": [
        "def img_list2(i) :\n",
        "    img = [fn for fn in os.listdir('/content/drive/MyDrive/2022/2022_data_camp/dataset/')]\n",
        "    path = '/content/drive/MyDrive/2022/2022_data_camp/dataset/' + str(img[i])\n",
        "    os.chdir(path)\n",
        "    img_ = [fn for fn in os.listdir(path)]\n",
        "    return img_"
      ]
    },
    {
      "cell_type": "code",
      "execution_count": null,
      "id": "9075cc8f-75e9-40d7-92ac-fe2b81e17fc4",
      "metadata": {
        "id": "9075cc8f-75e9-40d7-92ac-fe2b81e17fc4"
      },
      "outputs": [],
      "source": [
        "X0 = torch.stack([torchvision.transforms.functional.pil_to_tensor(transform(Image.open(fname))) for fname in img_list2(0)])\n",
        "X1 = torch.stack([torchvision.transforms.functional.pil_to_tensor(transform(Image.open(fname))) for fname in img_list2(1)])\n",
        "X2 = torch.stack([torchvision.transforms.functional.pil_to_tensor(transform(Image.open(fname))) for fname in img_list2(2)])\n",
        "X3 = torch.stack([torchvision.transforms.functional.pil_to_tensor(transform(Image.open(fname))) for fname in img_list2(3)])\n",
        "X4 = torch.stack([torchvision.transforms.functional.pil_to_tensor(transform(Image.open(fname))) for fname in img_list2(4)])\n",
        "X5 = torch.stack([torchvision.transforms.functional.pil_to_tensor(transform(Image.open(fname))) for fname in img_list2(5)])\n",
        "X6 = torch.stack([torchvision.transforms.functional.pil_to_tensor(transform(Image.open(fname))) for fname in img_list2(6)])\n",
        "X7 = torch.stack([torchvision.transforms.functional.pil_to_tensor(transform(Image.open(fname))) for fname in img_list2(7)])\n",
        "X8 = torch.stack([torchvision.transforms.functional.pil_to_tensor(transform(Image.open(fname))) for fname in img_list2(8)])\n",
        "X9 = torch.stack([torchvision.transforms.functional.pil_to_tensor(transform(Image.open(fname))) for fname in img_list2(9)])\n",
        "X10 = torch.stack([torchvision.transforms.functional.pil_to_tensor(transform(Image.open(fname))) for fname in img_list2(10)])\n",
        "X11 = torch.stack([torchvision.transforms.functional.pil_to_tensor(transform(Image.open(fname))) for fname in img_list2(11)])\n",
        "X12 = torch.stack([torchvision.transforms.functional.pil_to_tensor(transform(Image.open(fname))) for fname in img_list2(12)])\n",
        "X13 = torch.stack([torchvision.transforms.functional.pil_to_tensor(transform(Image.open(fname))) for fname in img_list2(13)])\n",
        "X14 = torch.stack([torchvision.transforms.functional.pil_to_tensor(transform(Image.open(fname))) for fname in img_list2(14)])\n",
        "X15 = torch.stack([torchvision.transforms.functional.pil_to_tensor(transform(Image.open(fname))) for fname in img_list2(15)])\n",
        "X16 = torch.stack([torchvision.transforms.functional.pil_to_tensor(transform(Image.open(fname))) for fname in img_list2(16)])\n",
        "X17 = torch.stack([torchvision.transforms.functional.pil_to_tensor(transform(Image.open(fname))) for fname in img_list2(17)])\n",
        "X18 = torch.stack([torchvision.transforms.functional.pil_to_tensor(transform(Image.open(fname))) for fname in img_list2(18)])\n",
        "X19 = torch.stack([torchvision.transforms.functional.pil_to_tensor(transform(Image.open(fname))) for fname in img_list2(19)])\n",
        "\n",
        "X0_train = X0[:int(len(X0)*0.9)]\n",
        "X0_test = X0[int(len(X0)*0.9):]\n",
        "X1_train = X1[:int(len(X1)*0.9)]\n",
        "X1_test = X1[int(len(X1)*0.9):]\n",
        "X2_train = X2[:int(len(X2)*0.9)]\n",
        "X2_test = X2[int(len(X2)*0.9):]\n",
        "X3_train = X3[:int(len(X3)*0.9)]\n",
        "X3_test = X3[int(len(X3)*0.9):]\n",
        "X4_train = X4[:int(len(X4)*0.9)]\n",
        "X4_test = X4[int(len(X4)*0.9):]\n",
        "X5_train = X5[:int(len(X5)*0.9)]\n",
        "X5_test = X5[int(len(X5)*0.9):]\n",
        "X6_train = X6[:int(len(X6)*0.9)]\n",
        "X6_test = X6[int(len(X6)*0.9):]\n",
        "X7_train = X7[:int(len(X7)*0.9)]\n",
        "X7_test = X7[int(len(X7)*0.9):]\n",
        "X8_train = X8[:int(len(X8)*0.9)]\n",
        "X8_test = X8[int(len(X8)*0.9):]\n",
        "X9_train = X9[:int(len(X9)*0.9)]\n",
        "X9_test = X9[int(len(X9)*0.9):]\n",
        "X10_train = X10[:int(len(X10)*0.9)]\n",
        "X10_test = X10[int(len(X10)*0.9):]\n",
        "X11_train = X11[:int(len(X11)*0.9)]\n",
        "X11_test = X11[int(len(X11)*0.9):]\n",
        "X12_train = X12[:int(len(X12)*0.9)]\n",
        "X12_test = X12[int(len(X12)*0.9):]\n",
        "X13_train = X13[:int(len(X13)*0.9)]\n",
        "X13_test = X13[int(len(X13)*0.9):]\n",
        "X14_train = X14[:int(len(X14)*0.9)]\n",
        "X14_test = X14[int(len(X14)*0.9):]\n",
        "X15_train = X15[:int(len(X15)*0.9)]\n",
        "X15_test = X15[int(len(X15)*0.9):]\n",
        "X16_train = X16[:int(len(X16)*0.9)]\n",
        "X16_test = X16[int(len(X16)*0.9):]\n",
        "X17_train = X17[:int(len(X17)*0.9)]\n",
        "X17_test = X17[int(len(X17)*0.9):]\n",
        "X18_train = X18[:int(len(X118)*0.9)]\n",
        "X18_test = X18[int(len(X18)*0.9):]\n",
        "X19_train = X19[:int(len(X19)*0.9)]\n",
        "X19_test = X19[int(len(X19)*0.9):]\n",
        "\n",
        "Xtrain = torch.concat([X0_train,X1_train,X2_train,X3_train,\\\n",
        "                       X4_train,X5_train,X6_train,X7_train,\\\n",
        "                       X8_train,X9_train,X10_train,X11_train,\\\n",
        "                       X12_train,X13_train,X14_train,X15_train,\\\n",
        "                       X16_train,X17_train,X18_train,X19_train])/255\n",
        "Xtest = torch.concat([X0_test,X1_test,X2_test,X3_test,\\\n",
        "                       X4_test,X5_test,X6_test,X7_test,\\\n",
        "                       X8_test,X9_test,X10_test,X11_test,\\\n",
        "                       X12_test,X13_test,X14_test,X15_test,\\\n",
        "                       X16_test,X17_test,X18_test,X19_test])/255"
      ]
    },
    {
      "cell_type": "code",
      "source": [
        "ytrain = torch.tensor([0]*len(X0_train) + [1]*len(X1_train)+ [2]*len(X2_train)+ [3]*len(X3_train)+ [4]*len(X4_train)+ [5]*len(X5_train)+ [6]*len(X6_train)+\\\n",
        "                 [7]*len(X7_train)+ [8]*len(X8_train)+ [9]*len(X9_train)+ [10]*len(X10_train)+ [11]*len(X11_train)+ [12]*len(X12_train)+ [13]*len(X13_train)+\\\n",
        "                 [14]*len(X14_train)+ [15]*len(X15_train)+ [16]*len(X16_train)+ [17]*len(X17_train)+ [18]*len(X18_train)+ [19]*len(X19_train))\n",
        "ytest = torch.tensor([0]*len(X0_test) + [1]*len(X1_test)+ [2]*len(X2_test)+ [3]*len(X3_test)+ [4]*len(X4_test)+ [5]*len(X5_test)+ [6]*len(X6_test)+\\\n",
        "                 [7]*len(X7_test)+ [8]*len(X8_test)+ [9]*len(X9_test)+ [10]*len(X10_test)+ [11]*len(X11_test)+ [12]*len(X12_test)+ [13]*len(X13_test)+\\\n",
        "                 [14]*len(X14_test)+ [15]*len(X15_test)+ [16]*len(X16_test)+ [17]*len(X17_test)+ [18]*len(X18_test)+ [19]*len(X19_test))"
      ],
      "metadata": {
        "id": "KFr_1Hi6n8cj"
      },
      "id": "KFr_1Hi6n8cj",
      "execution_count": null,
      "outputs": []
    },
    {
      "cell_type": "code",
      "source": [
        "ds1 = torch.utils.data.TensorDataset(Xtrain,ytrain)\n",
        "ds2 = torch.utils.data.TensorDataset(Xtest,ytest)\n",
        "dl1 = torch.utils.data.DataLoader(ds1,batch_size=1266) \n",
        "dl2 = torch.utils.data.DataLoader(ds2,batch_size=2115) \n",
        "dls = DataLoaders(dl1,dl2) "
      ],
      "metadata": {
        "id": "p3wYpvXzmOPl"
      },
      "id": "p3wYpvXzmOPl",
      "execution_count": null,
      "outputs": []
    },
    {
      "cell_type": "code",
      "source": [
        "net = torch.nn.Sequential(\n",
        "    torch.nn.Conv2d(3,16,(5,5)),\n",
        "    torch.nn.ReLU(),\n",
        "    torch.nn.MaxPool2d((2,2)),\n",
        "    torch.nn.Flatten(),\n",
        "    torch.nn.Linear(2304,20),\n",
        "    torch.nn.Sigmoid()\n",
        ")\n",
        "loss_fn = torch.nn.BCELoss() "
      ],
      "metadata": {
        "id": "l5Vljsu8mWEE"
      },
      "id": "l5Vljsu8mWEE",
      "execution_count": null,
      "outputs": []
    },
    {
      "cell_type": "code",
      "source": [
        "def acc(yhat,y) : \n",
        "    return ((yhat>0.5)==y).float().mean()\n",
        "\n",
        "def err(yhat,y):\n",
        "    return 1-((yhat>0.5)==y).float().mean()\n",
        "\n",
        "lrnr = Learner(dls,net,loss_fn,metrics=[acc,err])"
      ],
      "metadata": {
        "id": "wVxADIUGma_j"
      },
      "id": "wVxADIUGma_j",
      "execution_count": null,
      "outputs": []
    },
    {
      "cell_type": "code",
      "source": [
        "lrnr.fit(10)"
      ],
      "metadata": {
        "id": "D22LAgl7mcSV"
      },
      "id": "D22LAgl7mcSV",
      "execution_count": null,
      "outputs": []
    }
  ],
  "metadata": {
    "kernelspec": {
      "display_name": "Python 3 (ipykernel)",
      "language": "python",
      "name": "python3"
    },
    "language_info": {
      "codemirror_mode": {
        "name": "ipython",
        "version": 3
      },
      "file_extension": ".py",
      "mimetype": "text/x-python",
      "name": "python",
      "nbconvert_exporter": "python",
      "pygments_lexer": "ipython3",
      "version": "3.9.12"
    },
    "colab": {
      "provenance": [],
      "machine_shape": "hm"
    },
    "gpuClass": "standard",
    "accelerator": "GPU"
  },
  "nbformat": 4,
  "nbformat_minor": 5
}