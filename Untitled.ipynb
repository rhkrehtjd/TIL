{
 "cells": [
  {
   "cell_type": "code",
   "execution_count": 1,
   "id": "165c282a-c8b7-468e-ad0f-d27b1726b262",
   "metadata": {},
   "outputs": [],
   "source": [
    "# ver1 : 한 개의 이미지 파일 주소 반환\n",
    "def img_list(i,j) :\n",
    "    img = [fn for fn in os.listdir('/Users/gwagdoseong/Documents/공모전/dataset')]\n",
    "    path = '/Users/gwagdoseong/Documents/공모전/dataset/' + str(img[i])\n",
    "    os.chdir(path)\n",
    "    img_ = [fn for fn in os.listdir(path)]\n",
    "    return img_[j]\n",
    "\n",
    "# ver2 : i번째 폴더 속 이미지 주소들을 리스트로 반환\n",
    "def img_list2(i) :\n",
    "    img = [fn for fn in os.listdir('/Users/gwagdoseong/Documents/공모전/dataset')]\n",
    "    path = '/Users/gwagdoseong/Documents/공모전/dataset/' + str(img[i])\n",
    "    os.chdir(path)\n",
    "    img_ = [fn for fn in os.listdir(path)]\n",
    "    return img_\n",
    "# 한 개의 이미지 파일에 대한 비율 계산\n",
    "def ratio(i,j):\n",
    "    img_load = cv.imread(img_list(i,j))\n",
    "    return collections.Counter(img_load.ravel())[255]/len(img_load.ravel())\n",
    "\n",
    "# 한 폴더에 들어있는 이미지들의 비율을 ndarray로 배열\n",
    "def ratio_histogram(i):\n",
    "    a = np.array([])\n",
    "    for j in range(len(img_list2(i))):\n",
    "        a = np.append(a,[ratio(i,j)],axis=0)\n",
    "    return a"
   ]
  },
  {
   "cell_type": "code",
   "execution_count": null,
   "id": "bd2d2df4-47ab-4946-8955-9d90ca749b1d",
   "metadata": {},
   "outputs": [],
   "source": [
    "import matplotlib.pyplot as plt\n",
    "import numpy as np\n",
    "import os\n",
    "import cv2 as cv\n",
    "import collections\n",
    "plt.plot(ratio_histogram(13),'o',alpha=0.5)"
   ]
  },
  {
   "cell_type": "markdown",
   "id": "57e243bb-eadc-44df-8e1a-b2b7601c6d2e",
   "metadata": {},
   "source": [
    "> Solution?\n",
    "\n",
    "    함수 써서 특정 비율 아래인 건 삭제하는 건 어떤가?\n",
    "    특정 값 아래인 인덱스 뽑아내는 함수 설정해도 좋을 듯"
   ]
  },
  {
   "cell_type": "code",
   "execution_count": null,
   "id": "11340754-774d-42c2-8617-672e1892db56",
   "metadata": {
    "scrolled": true,
    "tags": []
   },
   "outputs": [],
   "source": [
    "ratio_histogram(0)"
   ]
  },
  {
   "cell_type": "code",
   "execution_count": null,
   "id": "426dcf2f-52e4-4c76-bfbb-ecef16fbc882",
   "metadata": {},
   "outputs": [],
   "source": [
    "img_load = cv.imread(img_list(2,3))"
   ]
  },
  {
   "cell_type": "code",
   "execution_count": null,
   "id": "c8ced830-9fac-4b05-82ed-16cbec3c5519",
   "metadata": {},
   "outputs": [],
   "source": [
    "plt.imshow(img_load)"
   ]
  },
  {
   "cell_type": "markdown",
   "id": "eda1dd20-9801-498e-b70f-4740443f2c6c",
   "metadata": {},
   "source": [
    "---"
   ]
  },
  {
   "cell_type": "code",
   "execution_count": 8,
   "id": "f7194f99-de6c-45db-81e7-35f7a4080e9c",
   "metadata": {},
   "outputs": [],
   "source": [
    "from skimage.io import imread, imshow"
   ]
  },
  {
   "cell_type": "code",
   "execution_count": 9,
   "id": "823ebade-7f42-43e8-bd47-f6bdd3797d6e",
   "metadata": {},
   "outputs": [],
   "source": [
    "os.chdir('/Users/gwagdoseong/Documents/공모전/dataset/L2_12')"
   ]
  },
  {
   "cell_type": "code",
   "execution_count": 10,
   "id": "8f47e448-3162-442f-8bb5-8725f96a23ef",
   "metadata": {},
   "outputs": [],
   "source": [
    "image = imread('dcixxqlvtgwozugkpxeo.jpg')"
   ]
  },
  {
   "cell_type": "code",
   "execution_count": 32,
   "id": "46e4ae7d-2f1e-4492-8f19-6fc85ab72054",
   "metadata": {},
   "outputs": [
    {
     "data": {
      "text/plain": [
       "8699840"
      ]
     },
     "execution_count": 32,
     "metadata": {},
     "output_type": "execute_result"
    }
   ],
   "source": [
    "image.shape[0]*image.shape[1]"
   ]
  },
  {
   "cell_type": "code",
   "execution_count": 24,
   "id": "8f31f740-ed64-4e72-819e-506ea4ef1873",
   "metadata": {},
   "outputs": [],
   "source": [
    "a =np.array( [[[1,2,3],[4,5,6],[2,3,4]],\n",
    "             [[12,12,13],[2134,123,123],[234,23,3]]])"
   ]
  },
  {
   "cell_type": "code",
   "execution_count": 25,
   "id": "b8386669-1ecc-4f44-aa86-78ebfa5e5871",
   "metadata": {},
   "outputs": [
    {
     "data": {
      "text/plain": [
       "(2, 3, 3)"
      ]
     },
     "execution_count": 25,
     "metadata": {},
     "output_type": "execute_result"
    }
   ],
   "source": [
    "a.shape["
   ]
  },
  {
   "cell_type": "code",
   "execution_count": 28,
   "id": "3f04e967-af4b-4d79-b83a-3f644d23c38f",
   "metadata": {},
   "outputs": [
    {
     "data": {
      "text/plain": [
       "2"
      ]
     },
     "execution_count": 28,
     "metadata": {},
     "output_type": "execute_result"
    }
   ],
   "source": [
    "len(a)"
   ]
  },
  {
   "cell_type": "code",
   "execution_count": 29,
   "id": "ef7c4387-6146-4b3d-b5b9-15217a833d4f",
   "metadata": {},
   "outputs": [
    {
     "name": "stdout",
     "output_type": "stream",
     "text": [
      "[[1 2 3]\n",
      " [4 5 6]\n",
      " [2 3 4]] 3\n",
      "[[  12   12   13]\n",
      " [2134  123  123]\n",
      " [ 234   23    3]] 3\n"
     ]
    }
   ],
   "source": [
    "for i in a:\n",
    "    print (i,len(i))"
   ]
  },
  {
   "cell_type": "code",
   "execution_count": 113,
   "id": "dae63c0d-c761-4c51-a19b-d15ede193895",
   "metadata": {},
   "outputs": [
    {
     "data": {
      "text/plain": [
       "array([255, 255, 255, ..., 255, 255, 255], dtype=uint8)"
      ]
     },
     "execution_count": 113,
     "metadata": {},
     "output_type": "execute_result"
    }
   ],
   "source": [
    "image[:,:,0].ravel()"
   ]
  },
  {
   "cell_type": "code",
   "execution_count": 98,
   "id": "fcaa23cc-5a42-4464-bc58-a8e1d820be21",
   "metadata": {},
   "outputs": [
    {
     "data": {
      "text/plain": [
       "(array([[   0.,    0.,    0.,    0.,    0., 3508.,    0.,    0.,    0.,\n",
       "            0.],\n",
       "        [   0.,    0.,    0.,    0.,    0., 3508.,    0.,    0.,    0.,\n",
       "            0.],\n",
       "        [   0.,    0.,    0.,    0.,    0., 3508.,    0.,    0.,    0.,\n",
       "            0.]]),\n",
       " array([254.5, 254.6, 254.7, 254.8, 254.9, 255. , 255.1, 255.2, 255.3,\n",
       "        255.4, 255.5]),\n",
       " <a list of 3 BarContainer objects>)"
      ]
     },
     "execution_count": 98,
     "metadata": {},
     "output_type": "execute_result"
    },
    {
     "data": {
      "image/png": "[encoded data removed]",
      "text/plain": [
       "<Figure size 432x288 with 1 Axes>"
      ]
     },
     "metadata": {
      "needs_background": "light"
     },
     "output_type": "display_data"
    }
   ],
   "source": [
    "plt.hist(image[:][:][0])"
   ]
  },
  {
   "cell_type": "code",
   "execution_count": null,
   "id": "b38d9ff1-a383-4dab-8f3c-3a40bac6854f",
   "metadata": {},
   "outputs": [],
   "source": [
    "image[0][1][20]"
   ]
  },
  {
   "cell_type": "code",
   "execution_count": null,
   "id": "6e428df3-e7c9-44c8-9a34-801376ca6558",
   "metadata": {},
   "outputs": [],
   "source": []
  },
  {
   "cell_type": "code",
   "execution_count": null,
   "id": "69505983-d2d6-49f1-9e37-21905ec0f8b8",
   "metadata": {},
   "outputs": [],
   "source": [
    "plt.imshow(image[0])"
   ]
  },
  {
   "cell_type": "code",
   "execution_count": null,
   "id": "4e40e8b6-8d83-40df-949f-43f72907d8e6",
   "metadata": {},
   "outputs": [],
   "source": [
    "a = image.shape[0],image.shape[1]"
   ]
  },
  {
   "cell_type": "code",
   "execution_count": null,
   "id": "d612af94-43cc-4480-a846-0170c3f694b4",
   "metadata": {},
   "outputs": [],
   "source": [
    "image = imread('eiukelrkyeksqftmpiou.jpg')\n",
    "feature_matrix_image = np.zeros(a) "
   ]
  },
  {
   "cell_type": "code",
   "execution_count": null,
   "id": "15971a86-3077-4eaf-b056-e55dab91bec6",
   "metadata": {},
   "outputs": [],
   "source": [
    "for i in range(0,image.shape[0]):\n",
    " \n",
    "    for j in range(0,image.shape[1]):\n",
    " \n",
    "        feature_matrix_image[i][j] = ((int(image[i,j,0]) + int(image[i,j,1]) + int(image[i,j,2]))/3)"
   ]
  },
  {
   "cell_type": "code",
   "execution_count": null,
   "id": "4bd105e6-2ea5-4da7-b475-08db18a1f49a",
   "metadata": {},
   "outputs": [],
   "source": [
    "feature_sample = np.reshape(feature_matrix_image, feature_matrix_image.shape[0]* feature_matrix_image.shape[1]) \n",
    "feature_sample"
   ]
  },
  {
   "cell_type": "code",
   "execution_count": null,
   "id": "d5fcaf15-e705-4643-b917-6d359e5654ba",
   "metadata": {},
   "outputs": [],
   "source": [
    "feature_sample.shape"
   ]
  },
  {
   "cell_type": "markdown",
   "id": "28e916e6-cf03-4032-9206-f3c4bd525a70",
   "metadata": {},
   "source": [
    "---"
   ]
  },
  {
   "cell_type": "code",
   "execution_count": null,
   "id": "eb58aed6-fa53-48f8-b255-970c720fbc38",
   "metadata": {},
   "outputs": [],
   "source": [
    "img_load = cv.imread(\"eiukelrkyeksqftmpiou.jpg\")"
   ]
  },
  {
   "cell_type": "code",
   "execution_count": null,
   "id": "6f48fb20-9dc3-4712-b349-23b7de915f53",
   "metadata": {},
   "outputs": [],
   "source": [
    "plt.imshow(img_load)"
   ]
  },
  {
   "cell_type": "code",
   "execution_count": null,
   "id": "91fb9a7b-4541-41f2-9a1a-2e87029bb84b",
   "metadata": {},
   "outputs": [],
   "source": [
    "img_load1 = cv.cvtColor(img_load, cv.COLOR_BGR2RGB)  # Convert from cv's BRG default color order to RGB"
   ]
  },
  {
   "cell_type": "code",
   "execution_count": null,
   "id": "b749d3a4-d5c9-4ff5-b633-4fd8ad4cac2f",
   "metadata": {},
   "outputs": [],
   "source": [
    "plt.imshow(img_load1)"
   ]
  },
  {
   "cell_type": "code",
   "execution_count": null,
   "id": "a6fa3342-b360-4521-8b5f-ddb6a6531ba1",
   "metadata": {},
   "outputs": [],
   "source": [
    "gray_image = cv.cvtColor(img_load,cv.COLOR_BGR2GRAY)"
   ]
  },
  {
   "cell_type": "code",
   "execution_count": null,
   "id": "e9d0cbf8-cc2f-4b7c-983d-38814c5bb586",
   "metadata": {},
   "outputs": [],
   "source": [
    "plt.imshow(gray_image)"
   ]
  },
  {
   "cell_type": "code",
   "execution_count": null,
   "id": "d27ff396-ea10-4dbf-924c-f69cc26aad80",
   "metadata": {},
   "outputs": [],
   "source": [
    "#converting image to HSV format\n",
    "#색상, 채도, 명도 이용하여 표현\n",
    "hsv_image_load = cv.cvtColor(img_load,cv.COLOR_BGR2HSV)\n",
    " \n",
    "#plotting the HSV image\n",
    " \n",
    "plt.imshow(hsv_image_load)"
   ]
  },
  {
   "cell_type": "code",
   "execution_count": null,
   "id": "b5292c46-289b-4ebe-a38e-5a52b3ac5bb4",
   "metadata": {},
   "outputs": [],
   "source": [
    "img_load.shape"
   ]
  },
  {
   "cell_type": "markdown",
   "id": "c12a36c5-fa94-40a9-9eee-b4cf9c5fe52c",
   "metadata": {},
   "source": [
    "- 픽셀을 \n",
    "  - 가로는 500 -> 100\n",
    "  - 세로는 334 -> 100\n",
    "  - 축소\n",
    "  - 해상도 $\\downarrow$"
   ]
  },
  {
   "cell_type": "code",
   "execution_count": null,
   "id": "56048cb9-febc-4c57-992d-c912bdb78a49",
   "metadata": {},
   "outputs": [],
   "source": [
    "#converting image to size (100,100,3)  \n",
    "smaller_image_size = cv.resize(img_load,(100,100))\n",
    "plt.imshow(smaller_image_size)\n"
   ]
  },
  {
   "cell_type": "code",
   "execution_count": null,
   "id": "1a918a36-c820-43d5-abfc-619b17c82a2a",
   "metadata": {},
   "outputs": [],
   "source": [
    "rows,cols = img_load.shape[:2] \n",
    " \n",
    "#(col/2,rows/2) is the center of rotation for the image \n",
    " \n",
    "# M is the cordinates of the center \n",
    " \n",
    "M_load = cv.getRotationMatrix2D((cols/2,rows/2),90,1) \n",
    " \n",
    "dst_load = cv.warpAffine(img_load,M_load,(cols,rows)) \n",
    " \n",
    "plt.imshow(dst_load)\n"
   ]
  },
  {
   "cell_type": "code",
   "execution_count": null,
   "id": "e2c54d96-db9b-4169-80b4-553bf3c91174",
   "metadata": {},
   "outputs": [],
   "source": [
    "ret,thresh_binary = cv.threshold(gray_image,127,255,cv.THRESH_BINARY)\n",
    " \n",
    "ret,thresh_binary_inv = cv.threshold(gray_image,127,255,cv.THRESH_BINARY_INV)\n",
    " \n",
    "ret,thresh_trunc = cv.threshold(gray_image,127,255,cv.THRESH_TRUNC)\n",
    " \n",
    "ret,thresh_tozero = cv.threshold(gray_image,127,255,cv.THRESH_TOZERO)\n",
    " \n",
    "ret,thresh_tozero_inv = cv.threshold(gray_image,127,255,cv.THRESH_TOZERO_INV)\n",
    "# DISPLAYING THE DIFFERENT THRESHOLDING STYLES using OpenCV\n",
    "# 임계점 다르게 설정하여 그림 살펴보기\n",
    "\n",
    "names = ['Oiriginal Image','BINARY','THRESH_BINARY','THRESH_TRUNC','THRESH_TOZERO','THRESH_TOZERO_INV']\n",
    " \n",
    "images = gray_image,thresh_binary,thresh_binary_inv,thresh_trunc,thresh_tozero,thresh_tozero_inv\n",
    " \n",
    "for i in range(6):\n",
    " \n",
    "    plt.subplot(2,3,i+1),plt.imshow(images[i],'gray')\n",
    " \n",
    "    plt.title(names[i])\n",
    " \n",
    "    plt.xticks([]),plt.yticks([])"
   ]
  },
  {
   "cell_type": "code",
   "execution_count": null,
   "id": "6d39028a-12dd-4b5c-96ed-b55c482d225a",
   "metadata": {},
   "outputs": [],
   "source": [
    "#calculate the edges using Canny edge algorithm\n",
    " \n",
    "edges_of_image = cv.Canny(img_load,100,200) \n",
    " \n",
    "#plot the edges\n",
    " \n",
    "plt.imshow(edges_of_image)"
   ]
  },
  {
   "cell_type": "markdown",
   "id": "01705230-4725-4663-b6fe-2967ab76d655",
   "metadata": {},
   "source": [
    "- 각 폴더에 접근해서 각 파일들을 list로 만들어서 불러오기\n",
    "- 불러온 다음 size를 다 살펴보자\n",
    "  - 이미지 size가 중구난방임을 알 수 있다. \n",
    "  - 이미지 비율도 제각각이다.\n",
    "  - https://www.kaggle.com/code/sungjunghwan/eda-images-view-processing"
   ]
  },
  {
   "cell_type": "markdown",
   "id": "89e96f65-8a84-4c5e-bf8f-1281d5172db7",
   "metadata": {},
   "source": [
    "- 255비율로 할까?,,,,,,,,,,,,,,,,"
   ]
  },
  {
   "cell_type": "code",
   "execution_count": null,
   "id": "5c0cb0bf-17a4-49cb-961d-aafe65964f57",
   "metadata": {},
   "outputs": [],
   "source": [
    "import os\n",
    "import cv2 as cv\n",
    "import matplotlib.pyplot as plt\n",
    "import collections\n",
    "import numpy as np"
   ]
  },
  {
   "cell_type": "code",
   "execution_count": null,
   "id": "ead9fe23-724d-4e01-8b1c-15c1fc261557",
   "metadata": {},
   "outputs": [],
   "source": [
    "os.chdir('/Users/gwagdoseong/Documents/공모전/L2_25')"
   ]
  },
  {
   "cell_type": "code",
   "execution_count": null,
   "id": "4466b19c-4de1-4880-850d-91a0a7d91cac",
   "metadata": {},
   "outputs": [],
   "source": [
    "img = cv.imread('aaohzifkhrvubkplmkup.jpg')"
   ]
  },
  {
   "cell_type": "code",
   "execution_count": null,
   "id": "4eeca39c-dd36-43d5-8ee5-47c153d57ede",
   "metadata": {},
   "outputs": [],
   "source": [
    "img_cv_gray = cv.cvtColor(img, cv.COLOR_BGR2GRAY)"
   ]
  },
  {
   "cell_type": "code",
   "execution_count": null,
   "id": "1561813a-0172-4849-8fd6-e72aeba7e240",
   "metadata": {},
   "outputs": [],
   "source": [
    "#plt.imshow(img_cv_gray, 'gray')"
   ]
  },
  {
   "cell_type": "code",
   "execution_count": null,
   "id": "aebd1f7c-6e09-4ec9-995b-b54a76fdaca3",
   "metadata": {
    "tags": []
   },
   "outputs": [],
   "source": [
    "img_ = cv.imread('aaokxfjzstmeurhsjkdp.jpg')"
   ]
  },
  {
   "cell_type": "code",
   "execution_count": null,
   "id": "eacaf17e-a8b9-4e3d-b5b5-d36fbff0159e",
   "metadata": {},
   "outputs": [],
   "source": [
    "img_cv_gray_ = cv.cvtColor(img_, cv.COLOR_BGR2GRAY)"
   ]
  },
  {
   "cell_type": "code",
   "execution_count": null,
   "id": "b6654474-158a-4d6f-ae7c-e98555ac36a8",
   "metadata": {},
   "outputs": [],
   "source": [
    "os.chdir('/Users/gwagdoseong/Documents/공모전/L2_50')"
   ]
  },
  {
   "cell_type": "code",
   "execution_count": null,
   "id": "e5986da5-ceb9-4e6c-95ac-aca5ce4505cb",
   "metadata": {
    "tags": []
   },
   "outputs": [],
   "source": [
    "img__ = cv.imread('eiukelrkyeksqftmpiou.jpg')"
   ]
  },
  {
   "cell_type": "code",
   "execution_count": null,
   "id": "5e2f5bea-71bc-4d8c-a77c-86ebb2b66280",
   "metadata": {},
   "outputs": [],
   "source": [
    "img_cv_gray__ = cv.cvtColor(img__, cv.COLOR_BGR2GRAY)"
   ]
  },
  {
   "cell_type": "code",
   "execution_count": null,
   "id": "277ae274-efc2-419e-bd9f-8f52924e4973",
   "metadata": {},
   "outputs": [],
   "source": [
    "collections.Counter(img_cv_gray.ravel())[255]/len(img_cv_gray.ravel())"
   ]
  },
  {
   "cell_type": "code",
   "execution_count": null,
   "id": "4e1b1002-3e1c-425c-9f63-a00ec6e99c2b",
   "metadata": {},
   "outputs": [],
   "source": [
    "collections.Counter(img_cv_gray_.ravel())[255]/len(img_cv_gray_.ravel())"
   ]
  },
  {
   "cell_type": "code",
   "execution_count": null,
   "id": "bf7cbb42-4d58-487d-8c35-fab4cc520c0d",
   "metadata": {},
   "outputs": [],
   "source": [
    "collections.Counter(img_cv_gray__.ravel())[255]/len(img_cv_gray__.ravel())"
   ]
  },
  {
   "cell_type": "code",
   "execution_count": null,
   "id": "bdcd5381-b80f-49e8-8c04-9cd6bd62abe5",
   "metadata": {},
   "outputs": [],
   "source": [
    "plt.hist(img_cv_gray.ravel())"
   ]
  },
  {
   "cell_type": "code",
   "execution_count": null,
   "id": "8086d859-6792-43a9-a054-12a80f3e38ed",
   "metadata": {},
   "outputs": [],
   "source": [
    "plt.hist(img.ravel(),  256, [0,256])\n",
    "plt.show()"
   ]
  },
  {
   "cell_type": "code",
   "execution_count": null,
   "id": "2a2c4900-0582-49d1-a03e-f21e0f3e6912",
   "metadata": {},
   "outputs": [],
   "source": [
    "#collections.Counter(img.ravel())"
   ]
  },
  {
   "cell_type": "code",
   "execution_count": null,
   "id": "eb18ca1e-c79e-45fb-a999-b5668c066146",
   "metadata": {},
   "outputs": [],
   "source": [
    "R, G, B = cv2.split(image)\n",
    "\n",
    "equ = cv2.merge((output1_R, output1_G, output1_B))"
   ]
  },
  {
   "cell_type": "code",
   "execution_count": null,
   "id": "eb0def1e-ca19-43d4-abfe-ba0fbd760797",
   "metadata": {},
   "outputs": [],
   "source": [
    "fig2_1=plt.hist(R.flatten(),256,[0,256])"
   ]
  },
  {
   "cell_type": "code",
   "execution_count": null,
   "id": "2329ce2f-4cec-48b0-870a-b91388dfe45c",
   "metadata": {},
   "outputs": [],
   "source": [
    "fig2_1=plt.hist(output1_R.flatten(),256,[0,256])"
   ]
  }
 ],
 "metadata": {
  "kernelspec": {
   "display_name": "Python 3 (ipykernel)",
   "language": "python",
   "name": "python3"
  },
  "language_info": {
   "codemirror_mode": {
    "name": "ipython",
    "version": 3
   },
   "file_extension": ".py",
   "mimetype": "text/x-python",
   "name": "python",
   "nbconvert_exporter": "python",
   "pygments_lexer": "ipython3",
   "version": "3.9.12"
  }
 },
 "nbformat": 4,
 "nbformat_minor": 5
}
