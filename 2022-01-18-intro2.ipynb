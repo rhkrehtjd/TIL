{
 "cells": [
  {
   "cell_type": "markdown",
   "id": "11027993-c0cd-4b1c-b1eb-5a2281616118",
   "metadata": {},
   "source": [
    "# 베르누이 분포 & 이항 분포"
   ]
  },
  {
   "cell_type": "markdown",
   "id": "b44ec87c-db6a-45ac-997d-55511c9ee5fe",
   "metadata": {},
   "source": [
    "### ***`베르누이 분포`***"
   ]
  },
  {
   "cell_type": "markdown",
   "id": "f198c054-855c-4f9f-8c49-882ab25bc765",
   "metadata": {},
   "source": [
    "두 가지의 가능한 결과만을 갖는 시행 또는 실험을 생각해보자. 둘 중 하나를 '성공', 다른 하나를 '실패'라고 한다면 이 실험의 결과는 '성공' 또는 '실패' 중 하나로 나타난다. 이때 그 결과가 성공이면 1의 값을 가지고 실패이면 0의 값을 가지는 확률 변수를 베르누이 확률 변수라고 하고 그 분포를 베르누이 분포라고 한다. 참고하자면 베르누이 분포는 단일 시험이 수행되는 이항 분포의 특수한 경우이다. \n",
    "\n",
    "'성공'일 확률이 $p$인 베르누이 확률변수 $X$의 확률밀도함수는 $f(1) = p$, $f(0) = 1-p = q$ 로 주어지고, 기댓값과 분산은 각각 \n",
    "\n",
    "$E(X) =1 \\times p + 0 \\times (1-p) = p$\n",
    "\n",
    "$ Var(X) = E(X-p)^2 = (0 - p)^2 \\times (1 - p) + (1 - p)^2 \\times p = p(1-p)$\n",
    "\n",
    "로 구해진다."
   ]
  },
  {
   "cell_type": "markdown",
   "id": "60c21c71-080d-4a29-b39e-7420d675b6d7",
   "metadata": {},
   "source": [
    "### ***`이항 분포`***"
   ]
  },
  {
   "cell_type": "markdown",
   "id": "078a1df3-2cdb-44f5-83ae-df72ef9cde2a",
   "metadata": {},
   "source": [
    "확률 변수 $X_1,\\dots,X_n$이 성공 확률이 p이며 서로 독립인 베르누이 시행으로부터 얻을 것일 때, 그들의 합으로 나타내어지는 $X = X_1 + X_2 + X_3 + \\dots + X_n$를 이항확률변수라 한다. 여기에서 $X = X_1 + X_2 + X_3 + \\dots + X_n$는 n회의 독립인 베르누이 시행에서 구한 '성공'의 횟수를 나타내게 되므로 {0,1,2,...,n}중 하나의 값을 갖는다. 이와 같은 변수 X의 확률밀도함수는 $f(x) = nCx p^x (1-p)^x$ 이며 X ~ B(n,p)로 표기한다. 만약 X=3 이라면 총 n번의 시행 중 3번 성공하고 n-3번 실패했다는 뜻이다.\n",
    "\n",
    "이항확률변수 X ~ B(n,p)의 기댓값과 분산은\n",
    "\n",
    "$E(X) = np$\n",
    "\n",
    "$Var(X) = np(1-p)$\n",
    "\n",
    "로 구할 수 있다."
   ]
  },
  {
   "cell_type": "markdown",
   "id": "6df08561-9008-4c11-a067-870bc8e8f8a8",
   "metadata": {},
   "source": [
    "또한 이 이항확률변수를 다항분포로 확장할 수 있다."
   ]
  }
 ],
 "metadata": {
  "kernelspec": {
   "display_name": "Python 3 (ipykernel)",
   "language": "python",
   "name": "python3"
  },
  "language_info": {
   "codemirror_mode": {
    "name": "ipython",
    "version": 3
   },
   "file_extension": ".py",
   "mimetype": "text/x-python",
   "name": "python",
   "nbconvert_exporter": "python",
   "pygments_lexer": "ipython3",
   "version": "3.8.11"
  }
 },
 "nbformat": 4,
 "nbformat_minor": 5
}
